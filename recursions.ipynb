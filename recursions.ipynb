{
 "cells": [
  {
   "cell_type": "code",
   "execution_count": 1,
   "id": "9e1bae2f-1eec-42b2-815d-a29fdb5ee9ac",
   "metadata": {},
   "outputs": [
    {
     "name": "stdout",
     "output_type": "stream",
     "text": [
      "recursions\n"
     ]
    }
   ],
   "source": [
    "print(\"recursions\")"
   ]
  },
  {
   "cell_type": "code",
   "execution_count": 7,
   "id": "2b56c374-27ab-4efb-9580-0e0441e1e1af",
   "metadata": {
    "collapsed": true,
    "jupyter": {
     "outputs_hidden": true
    }
   },
   "outputs": [
    {
     "name": "stdin",
     "output_type": "stream",
     "text": [
      "enter number of terms to print: 8\n"
     ]
    },
    {
     "name": "stdout",
     "output_type": "stream",
     "text": [
      "fibonacci series...\n",
      "0 1 1 2 3 5 8 13 "
     ]
    }
   ],
   "source": [
    "#fib on tree recursions 0 1 1 2 3 5 8\n",
    "def fib(n):\n",
    "    if n<=1:\n",
    "        return n\n",
    "    return fib(n-1)+fib(n-2)\n",
    "terms=int(input(\"enter number of terms to print:\"))\n",
    "print(\"fibonacci series...\")\n",
    "for i in range(terms):\n",
    "    print(fib(i), end=' ')"
   ]
  },
  {
   "cell_type": "code",
   "execution_count": 9,
   "id": "70f2fdb0-6945-4e0d-b02d-2376afc39a57",
   "metadata": {},
   "outputs": [
    {
     "name": "stdin",
     "output_type": "stream",
     "text": [
      "enter a name/word: abc\n"
     ]
    },
    {
     "name": "stdout",
     "output_type": "stream",
     "text": [
      "possibilities of combination...\n",
      "abc\n",
      "acb\n",
      "bac\n",
      "bca\n",
      "cab\n",
      "cba\n"
     ]
    }
   ],
   "source": [
    "#permuatations of char in tree recursion\n",
    "def permute(s, bucket=''):\n",
    "    if not s:\n",
    "        print(bucket)\n",
    "        return\n",
    "    for i in range(len(s)):\n",
    "        ns=s[:i]+s[i+1:]\n",
    "        permute(ns,bucket+s[i])\n",
    "text=input(\"enter a name/word:\")\n",
    "print(\"possibilities of combination...\")\n",
    "permute(text)"
   ]
  },
  {
   "cell_type": "code",
   "execution_count": 23,
   "id": "49053379-7e4f-4039-9bc0-7915fe5e8521",
   "metadata": {},
   "outputs": [
    {
     "name": "stdin",
     "output_type": "stream",
     "text": [
      "enter length of string: 4\n"
     ]
    },
    {
     "name": "stdout",
     "output_type": "stream",
     "text": [
      "Binary combinations\n",
      "0000\n",
      "0001\n",
      "0010\n",
      "0011\n",
      "0100\n",
      "0101\n",
      "0110\n",
      "0111\n",
      "1000\n",
      "1001\n",
      "1010\n",
      "1011\n",
      "1100\n",
      "1101\n",
      "1110\n",
      "1111\n"
     ]
    }
   ],
   "source": [
    "#Binary numbers\n",
    "def binary(n, b=''):\n",
    "    if n==0:\n",
    "        print(b)\n",
    "        return(b)\n",
    "    binary(n-1, b+'0')\n",
    "    binary(n-1, b+'1')\n",
    "length=int(input(\"enter length of string:\"))\n",
    "print(\"Binary combinations\")\n",
    "binary(length)"
   ]
  },
  {
   "cell_type": "code",
   "execution_count": 31,
   "id": "7739ea89-0517-4a3e-9664-17f97f8e04b3",
   "metadata": {},
   "outputs": [
    {
     "name": "stdin",
     "output_type": "stream",
     "text": [
      " 6\n"
     ]
    },
    {
     "name": "stdout",
     "output_type": "stream",
     "text": [
      "6\n",
      "5\n",
      "4\n",
      "3\n",
      "2\n",
      "1\n"
     ]
    }
   ],
   "source": [
    "#Head recursion\n",
    "def head(n):\n",
    "    if n==0:\n",
    "        return\n",
    "    print(n)\n",
    "    head(n-1)\n",
    "num=int(input())\n",
    "head(num)"
   ]
  },
  {
   "cell_type": "code",
   "execution_count": 39,
   "id": "c820ea1a-c777-48dc-b85d-f5d8f7d451ee",
   "metadata": {},
   "outputs": [
    {
     "name": "stdin",
     "output_type": "stream",
     "text": [
      " 6\n"
     ]
    },
    {
     "name": "stdout",
     "output_type": "stream",
     "text": [
      "Sum: 21\n"
     ]
    }
   ],
   "source": [
    "#sum_head_rec\n",
    "def sumhead(n):\n",
    "    if n==0:\n",
    "        return 0\n",
    "    return n+sumhead(n-1)\n",
    "num=int(input())\n",
    "print(\"Sum:\",sumhead(num))"
   ]
  },
  {
   "cell_type": "code",
   "execution_count": 41,
   "id": "61429168-7f48-4774-abe3-1a55c7b0f67d",
   "metadata": {},
   "outputs": [
    {
     "name": "stdin",
     "output_type": "stream",
     "text": [
      " 6\n"
     ]
    },
    {
     "name": "stdout",
     "output_type": "stream",
     "text": [
      "1\n",
      "2\n",
      "3\n",
      "4\n",
      "5\n",
      "6\n"
     ]
    }
   ],
   "source": [
    "#Tail recursion\n",
    "def tail(n):\n",
    "    if n==0:\n",
    "        return\n",
    "    print(n)\n",
    "    tail(n-1)\n",
    "num=int(input())\n",
    "head(num)"
   ]
  },
  {
   "cell_type": "code",
   "execution_count": 45,
   "id": "d25534cb-43e2-44d5-bd18-4bc3e71eaba4",
   "metadata": {},
   "outputs": [
    {
     "name": "stdin",
     "output_type": "stream",
     "text": [
      " 6\n"
     ]
    },
    {
     "name": "stdout",
     "output_type": "stream",
     "text": [
      "Sum: 21\n"
     ]
    }
   ],
   "source": [
    "#sum_tail_rec\n",
    "def sumtail(n, temp=0):\n",
    "    if n==0:\n",
    "        return temp\n",
    "    return sumtail(n-1, temp+n)\n",
    "num=int(input())\n",
    "print(\"Sum:\",sumtail(num))"
   ]
  },
  {
   "cell_type": "code",
   "execution_count": null,
   "id": "ba068489-3133-4b9d-aedb-3db14e0fd671",
   "metadata": {},
   "outputs": [],
   "source": []
  }
 ],
 "metadata": {
  "kernelspec": {
   "display_name": "Python 3 (ipykernel)",
   "language": "python",
   "name": "python3"
  },
  "language_info": {
   "codemirror_mode": {
    "name": "ipython",
    "version": 3
   },
   "file_extension": ".py",
   "mimetype": "text/x-python",
   "name": "python",
   "nbconvert_exporter": "python",
   "pygments_lexer": "ipython3",
   "version": "3.12.7"
  }
 },
 "nbformat": 4,
 "nbformat_minor": 5
}
